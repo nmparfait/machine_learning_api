{
 "cells": [
  {
   "cell_type": "markdown",
   "id": "fa76d51b",
   "metadata": {},
   "source": [
    "### processamento de linguagem natural para verificar a polaridade de uma frase, se ela é positiva ou negativa"
   ]
  },
  {
   "cell_type": "code",
   "execution_count": 16,
   "id": "8d026d3f",
   "metadata": {},
   "outputs": [],
   "source": [
    "# biblioteca do nlp\n",
    "from textblob import TextBlob"
   ]
  },
  {
   "cell_type": "code",
   "execution_count": null,
   "id": "4ba2dddc",
   "metadata": {},
   "outputs": [],
   "source": [
    "# análise de sentimento funciona na escala de -1 até 1 (-1 mais negativo e 1 é positivo)\n",
    "# melhor traduzir en ingles pois textblob funciona melhor."
   ]
  },
  {
   "cell_type": "code",
   "execution_count": 4,
   "id": "756d27ac",
   "metadata": {},
   "outputs": [],
   "source": [
    "frase = \"Python é ótimo para Machine Learning\""
   ]
  },
  {
   "cell_type": "code",
   "execution_count": 10,
   "id": "fd90899d",
   "metadata": {},
   "outputs": [],
   "source": [
    "tb = TextBlob(frase)"
   ]
  },
  {
   "cell_type": "code",
   "execution_count": 11,
   "id": "967042d4",
   "metadata": {},
   "outputs": [
    {
     "data": {
      "text/plain": [
       "0.0"
      ]
     },
     "execution_count": 11,
     "metadata": {},
     "output_type": "execute_result"
    }
   ],
   "source": [
    "tb.sentiment.polarity"
   ]
  },
  {
   "cell_type": "code",
   "execution_count": 13,
   "id": "79a63e33",
   "metadata": {},
   "outputs": [],
   "source": [
    "tb_en = tb.translate(from_lang='pt', to='en')"
   ]
  },
  {
   "cell_type": "code",
   "execution_count": 14,
   "id": "2b1a2072",
   "metadata": {},
   "outputs": [
    {
     "data": {
      "text/plain": [
       "TextBlob(\"Python is great for Machine Learning\")"
      ]
     },
     "execution_count": 14,
     "metadata": {},
     "output_type": "execute_result"
    }
   ],
   "source": [
    "tb_en"
   ]
  },
  {
   "cell_type": "code",
   "execution_count": 15,
   "id": "800431c6",
   "metadata": {},
   "outputs": [
    {
     "data": {
      "text/plain": [
       "0.8"
      ]
     },
     "execution_count": 15,
     "metadata": {},
     "output_type": "execute_result"
    }
   ],
   "source": [
    "tb_en.sentiment.polarity"
   ]
  },
  {
   "cell_type": "code",
   "execution_count": null,
   "id": "028ad2ff",
   "metadata": {},
   "outputs": [],
   "source": [
    "# indicando que a frase é uma versão positiva."
   ]
  }
 ],
 "metadata": {
  "kernelspec": {
   "display_name": "Python 3 (ipykernel)",
   "language": "python",
   "name": "python3"
  },
  "language_info": {
   "codemirror_mode": {
    "name": "ipython",
    "version": 3
   },
   "file_extension": ".py",
   "mimetype": "text/x-python",
   "name": "python",
   "nbconvert_exporter": "python",
   "pygments_lexer": "ipython3",
   "version": "3.9.13"
  }
 },
 "nbformat": 4,
 "nbformat_minor": 5
}
