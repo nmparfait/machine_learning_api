{
 "cells": [
  {
   "cell_type": "markdown",
   "id": "a8572066",
   "metadata": {},
   "source": [
    "# MACHINE LEARNING WITH API'S"
   ]
  },
  {
   "cell_type": "code",
   "execution_count": 9,
   "id": "1e863e8a",
   "metadata": {},
   "outputs": [],
   "source": [
    "from flask import Flask\n",
    "from textblob import TextBlob"
   ]
  },
  {
   "cell_type": "code",
   "execution_count": 10,
   "id": "164429f7",
   "metadata": {},
   "outputs": [],
   "source": [
    "app = Flask('meu_app')"
   ]
  },
  {
   "cell_type": "code",
   "execution_count": 11,
   "id": "90d4079d",
   "metadata": {},
   "outputs": [],
   "source": [
    "@app.route('/')\n",
    "def home():\n",
    "    return \"Minha primeira API em python\""
   ]
  },
  {
   "cell_type": "code",
   "execution_count": null,
   "id": "ea869e6a",
   "metadata": {},
   "outputs": [],
   "source": [
    "# url para ponto de accesso \n",
    "@app.route('sentimento/<frase>')\n",
    "def sentimento(frase):\n",
    "    tb = TextBlob(frase)\n",
    "    tb_en = tb.translate(from_lang='pt', to='en')"
   ]
  },
  {
   "cell_type": "code",
   "execution_count": null,
   "id": "bc8f944e",
   "metadata": {},
   "outputs": [
    {
     "name": "stdout",
     "output_type": "stream",
     "text": [
      " * Serving Flask app \"meu_app\" (lazy loading)\n",
      " * Environment: production\n",
      "\u001b[31m   WARNING: This is a development server. Do not use it in a production deployment.\u001b[0m\n",
      "\u001b[2m   Use a production WSGI server instead.\u001b[0m\n",
      " * Debug mode: off\n"
     ]
    },
    {
     "name": "stderr",
     "output_type": "stream",
     "text": [
      " * Running on http://127.0.0.1:5000/ (Press CTRL+C to quit)\n",
      "127.0.0.1 - - [29/Nov/2022 19:06:15] \"GET / HTTP/1.1\" 200 -\n"
     ]
    }
   ],
   "source": [
    "app.run()"
   ]
  },
  {
   "cell_type": "code",
   "execution_count": 7,
   "id": "597366cd",
   "metadata": {},
   "outputs": [],
   "source": [
    "#restart a execução automaticamente.\n",
    "#app.run(debug=True)"
   ]
  },
  {
   "cell_type": "code",
   "execution_count": null,
   "id": "d09112bd",
   "metadata": {},
   "outputs": [],
   "source": []
  }
 ],
 "metadata": {
  "kernelspec": {
   "display_name": "Python 3 (ipykernel)",
   "language": "python",
   "name": "python3"
  },
  "language_info": {
   "codemirror_mode": {
    "name": "ipython",
    "version": 3
   },
   "file_extension": ".py",
   "mimetype": "text/x-python",
   "name": "python",
   "nbconvert_exporter": "python",
   "pygments_lexer": "ipython3",
   "version": "3.9.13"
  }
 },
 "nbformat": 4,
 "nbformat_minor": 5
}
