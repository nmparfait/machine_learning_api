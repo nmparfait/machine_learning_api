{
 "cells": [
  {
   "cell_type": "markdown",
   "id": "6e10a620",
   "metadata": {},
   "source": [
    "# MACHINE LEARNING WITH API'S"
   ]
  },
  {
   "cell_type": "code",
   "execution_count": 1,
   "id": "30e82fc9",
   "metadata": {},
   "outputs": [],
   "source": [
    "from flask import Flask\n",
    "from textblob import TextBlob"
   ]
  },
  {
   "cell_type": "code",
   "execution_count": 2,
   "id": "0bb81eaf",
   "metadata": {},
   "outputs": [],
   "source": [
    "app = Flask(__name__)"
   ]
  },
  {
   "cell_type": "code",
   "execution_count": 3,
   "id": "ed00c00b",
   "metadata": {},
   "outputs": [],
   "source": [
    "@app.route('/')\n",
    "def home():\n",
    "    return \"Minha primeira API em python\""
   ]
  },
  {
   "cell_type": "code",
   "execution_count": 4,
   "id": "01f3a4a3",
   "metadata": {},
   "outputs": [],
   "source": [
    "# url para ponto de accesso \n",
    "@app.route('/sentimento/<frase>')\n",
    "def sentimento(frase):\n",
    "    tb = TextBlob(frase)\n",
    "    tb_en = tb.translate(from_lang='pt', to='en')\n",
    "    polaridade = tb_en.sentiment.polarity\n",
    "    return \"polaridade: {}\".format(polaridade)"
   ]
  },
  {
   "cell_type": "code",
   "execution_count": null,
   "id": "5d5e4d74",
   "metadata": {},
   "outputs": [
    {
     "name": "stdout",
     "output_type": "stream",
     "text": [
      " * Serving Flask app \"__main__\" (lazy loading)\n",
      " * Environment: production\n",
      "\u001b[31m   WARNING: This is a development server. Do not use it in a production deployment.\u001b[0m\n",
      "\u001b[2m   Use a production WSGI server instead.\u001b[0m\n",
      " * Debug mode: off\n"
     ]
    },
    {
     "name": "stderr",
     "output_type": "stream",
     "text": [
      " * Running on http://127.0.0.1:5000/ (Press CTRL+C to quit)\n",
      "127.0.0.1 - - [29/Nov/2022 21:17:15] \"GET / HTTP/1.1\" 200 -\n",
      "127.0.0.1 - - [29/Nov/2022 21:17:35] \"GET /sentimento/Python%20pode%20entender%20tudo HTTP/1.1\" 200 -\n",
      "127.0.0.1 - - [29/Nov/2022 21:18:17] \"GET /sentimento/Python%20é%20ótimo%20para%20Machine%20Learning HTTP/1.1\" 200 -\n",
      "127.0.0.1 - - [29/Nov/2022 23:15:03] \"GET / HTTP/1.1\" 200 -\n",
      "127.0.0.1 - - [29/Nov/2022 23:16:44] \"GET /cotacao/120 HTTP/1.1\" 404 -\n",
      "127.0.0.1 - - [29/Nov/2022 23:21:36] \"GET / HTTP/1.1\" 200 -\n",
      "127.0.0.1 - - [29/Nov/2022 23:21:45] \"GET /cotacao/120 HTTP/1.1\" 404 -\n",
      "127.0.0.1 - - [29/Nov/2022 23:22:25] \"GET / HTTP/1.1\" 200 -\n",
      "127.0.0.1 - - [29/Nov/2022 23:22:36] \"GET /sentimento/Python%20é%20ótimo%20para%20Machine%20Learning HTTP/1.1\" 200 -\n",
      "127.0.0.1 - - [29/Nov/2022 23:22:47] \"GET /cotacao/120 HTTP/1.1\" 404 -\n",
      "127.0.0.1 - - [29/Nov/2022 23:24:29] \"GET /cotacao/220 HTTP/1.1\" 404 -\n",
      "127.0.0.1 - - [29/Nov/2022 23:33:13] \"GET / HTTP/1.1\" 200 -\n",
      "127.0.0.1 - - [29/Nov/2022 23:33:24] \"GET /cotacao/120 HTTP/1.1\" 404 -\n",
      "127.0.0.1 - - [29/Nov/2022 23:34:01] \"GET / HTTP/1.1\" 200 -\n",
      "127.0.0.1 - - [29/Nov/2022 23:34:08] \"GET /cotacao/120 HTTP/1.1\" 404 -\n"
     ]
    }
   ],
   "source": [
    "app.run()"
   ]
  },
  {
   "cell_type": "code",
   "execution_count": null,
   "id": "4529ea80",
   "metadata": {},
   "outputs": [],
   "source": [
    "#restart a execução automaticamente.\n",
    "#app.run(debug=True)"
   ]
  },
  {
   "cell_type": "code",
   "execution_count": null,
   "id": "bf7180fa",
   "metadata": {},
   "outputs": [],
   "source": []
  }
 ],
 "metadata": {
  "kernelspec": {
   "display_name": "Python 3 (ipykernel)",
   "language": "python",
   "name": "python3"
  },
  "language_info": {
   "codemirror_mode": {
    "name": "ipython",
    "version": 3
   },
   "file_extension": ".py",
   "mimetype": "text/x-python",
   "name": "python",
   "nbconvert_exporter": "python",
   "pygments_lexer": "ipython3",
   "version": "3.9.13"
  }
 },
 "nbformat": 4,
 "nbformat_minor": 5
}
